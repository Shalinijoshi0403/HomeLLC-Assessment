{
 "cells": [
  {
   "cell_type": "code",
   "execution_count": 1,
   "id": "b1f7b711",
   "metadata": {},
   "outputs": [],
   "source": [
    "#Importing the necessary libraries\n",
    "\n",
    "import numpy as np\n",
    "import pandas as pd\n",
    "import seaborn as sns\n",
    "import matplotlib.pyplot as plt\n",
    "from sklearn.preprocessing import MinMaxScaler\n",
    "from sklearn.linear_model import LinearRegression\n",
    "from sklearn.model_selection import train_test_split\n",
    "from sklearn.metrics import r2_score,mean_squared_error"
   ]
  },
  {
   "cell_type": "code",
   "execution_count": 2,
   "id": "b09be932",
   "metadata": {},
   "outputs": [
    {
     "name": "stdout",
     "output_type": "stream",
     "text": [
      "(249, 4)\n"
     ]
    },
    {
     "data": {
      "text/html": [
       "<div>\n",
       "<style scoped>\n",
       "    .dataframe tbody tr th:only-of-type {\n",
       "        vertical-align: middle;\n",
       "    }\n",
       "\n",
       "    .dataframe tbody tr th {\n",
       "        vertical-align: top;\n",
       "    }\n",
       "\n",
       "    .dataframe thead th {\n",
       "        text-align: right;\n",
       "    }\n",
       "</style>\n",
       "<table border=\"1\" class=\"dataframe\">\n",
       "  <thead>\n",
       "    <tr style=\"text-align: right;\">\n",
       "      <th></th>\n",
       "      <th>DATE</th>\n",
       "      <th>HousePriceIndex</th>\n",
       "      <th>Year</th>\n",
       "      <th>Month</th>\n",
       "    </tr>\n",
       "  </thead>\n",
       "  <tbody>\n",
       "    <tr>\n",
       "      <th>244</th>\n",
       "      <td>2023-05-01</td>\n",
       "      <td>302.566</td>\n",
       "      <td>2023</td>\n",
       "      <td>5</td>\n",
       "    </tr>\n",
       "    <tr>\n",
       "      <th>245</th>\n",
       "      <td>2023-06-01</td>\n",
       "      <td>304.593</td>\n",
       "      <td>2023</td>\n",
       "      <td>6</td>\n",
       "    </tr>\n",
       "    <tr>\n",
       "      <th>246</th>\n",
       "      <td>2023-07-01</td>\n",
       "      <td>306.767</td>\n",
       "      <td>2023</td>\n",
       "      <td>7</td>\n",
       "    </tr>\n",
       "    <tr>\n",
       "      <th>247</th>\n",
       "      <td>2023-08-01</td>\n",
       "      <td>309.155</td>\n",
       "      <td>2023</td>\n",
       "      <td>8</td>\n",
       "    </tr>\n",
       "    <tr>\n",
       "      <th>248</th>\n",
       "      <td>2023-09-01</td>\n",
       "      <td>311.175</td>\n",
       "      <td>2023</td>\n",
       "      <td>9</td>\n",
       "    </tr>\n",
       "  </tbody>\n",
       "</table>\n",
       "</div>"
      ],
      "text/plain": [
       "          DATE  HousePriceIndex  Year  Month\n",
       "244 2023-05-01          302.566  2023      5\n",
       "245 2023-06-01          304.593  2023      6\n",
       "246 2023-07-01          306.767  2023      7\n",
       "247 2023-08-01          309.155  2023      8\n",
       "248 2023-09-01          311.175  2023      9"
      ]
     },
     "execution_count": 2,
     "metadata": {},
     "output_type": "execute_result"
    }
   ],
   "source": [
    "# Reading CASE-SHILLER House price Index data (target variable)\n",
    "\n",
    "df_HPI = pd.read_csv(\"C:\\\\Users\\\\suven\\\\OneDrive\\\\Desktop\\\\Shalini\\\\Data Related resume\\\\HomeLLC\\\\Stage1 - Assessment\\\\Data Collection - Copy\\\\HousePriceIndex.csv\")\n",
    "\n",
    "#Changing data type of date column\n",
    "df_HPI[\"DATE\"] = pd.to_datetime(df_HPI[\"DATE\"])\n",
    "\n",
    "#Resetting Index\n",
    "df_HPI.reset_index(inplace = True)\n",
    "df_HPI.drop(columns = [\"index\"], inplace = True)\n",
    "\n",
    "# Creating \"Year\" and \"Month\" columns\n",
    "df_HPI[\"Year\"] = pd.DatetimeIndex(df_HPI[\"DATE\"]).year\n",
    "df_HPI[\"Month\"] = pd.DatetimeIndex(df_HPI[\"DATE\"]).month\n",
    "\n",
    "print(df_HPI.shape)\n",
    "df_HPI.tail()"
   ]
  },
  {
   "cell_type": "code",
   "execution_count": 3,
   "id": "3d4fed99",
   "metadata": {},
   "outputs": [
    {
     "name": "stdout",
     "output_type": "stream",
     "text": [
      "(251, 2)\n"
     ]
    },
    {
     "data": {
      "text/html": [
       "<div>\n",
       "<style scoped>\n",
       "    .dataframe tbody tr th:only-of-type {\n",
       "        vertical-align: middle;\n",
       "    }\n",
       "\n",
       "    .dataframe tbody tr th {\n",
       "        vertical-align: top;\n",
       "    }\n",
       "\n",
       "    .dataframe thead th {\n",
       "        text-align: right;\n",
       "    }\n",
       "</style>\n",
       "<table border=\"1\" class=\"dataframe\">\n",
       "  <thead>\n",
       "    <tr style=\"text-align: right;\">\n",
       "      <th></th>\n",
       "      <th>DATE</th>\n",
       "      <th>UNRATE</th>\n",
       "    </tr>\n",
       "  </thead>\n",
       "  <tbody>\n",
       "    <tr>\n",
       "      <th>246</th>\n",
       "      <td>7/1/2023</td>\n",
       "      <td>3.5</td>\n",
       "    </tr>\n",
       "    <tr>\n",
       "      <th>247</th>\n",
       "      <td>8/1/2023</td>\n",
       "      <td>3.8</td>\n",
       "    </tr>\n",
       "    <tr>\n",
       "      <th>248</th>\n",
       "      <td>9/1/2023</td>\n",
       "      <td>3.8</td>\n",
       "    </tr>\n",
       "    <tr>\n",
       "      <th>249</th>\n",
       "      <td>NaN</td>\n",
       "      <td>NaN</td>\n",
       "    </tr>\n",
       "    <tr>\n",
       "      <th>250</th>\n",
       "      <td>NaN</td>\n",
       "      <td>NaN</td>\n",
       "    </tr>\n",
       "  </tbody>\n",
       "</table>\n",
       "</div>"
      ],
      "text/plain": [
       "         DATE  UNRATE\n",
       "246  7/1/2023     3.5\n",
       "247  8/1/2023     3.8\n",
       "248  9/1/2023     3.8\n",
       "249       NaN     NaN\n",
       "250       NaN     NaN"
      ]
     },
     "execution_count": 3,
     "metadata": {},
     "output_type": "execute_result"
    }
   ],
   "source": [
    "# Reading Unemployment Rate Data \n",
    "\n",
    "df_unemp = pd.read_csv(\"C:\\\\Users\\\\suven\\\\OneDrive\\\\Desktop\\\\Shalini\\\\Data Related resume\\\\HomeLLC\\\\Stage1 - Assessment\\\\Data Collection - Copy\\\\UNRATE.csv\")\n",
    "\n",
    "print(df_unemp.shape)\n",
    "df_unemp.tail()"
   ]
  },
  {
   "cell_type": "code",
   "execution_count": 4,
   "id": "46bb4764",
   "metadata": {},
   "outputs": [],
   "source": [
    "df_unemp.drop([249,250], inplace = True)"
   ]
  },
  {
   "cell_type": "code",
   "execution_count": 5,
   "id": "3f5dc3ed",
   "metadata": {},
   "outputs": [
    {
     "name": "stdout",
     "output_type": "stream",
     "text": [
      "(249, 2)\n"
     ]
    }
   ],
   "source": [
    "print(df_unemp.shape)"
   ]
  },
  {
   "cell_type": "code",
   "execution_count": 6,
   "id": "52da301e",
   "metadata": {},
   "outputs": [
    {
     "name": "stdout",
     "output_type": "stream",
     "text": [
      "(83, 2)\n"
     ]
    },
    {
     "data": {
      "text/html": [
       "<div>\n",
       "<style scoped>\n",
       "    .dataframe tbody tr th:only-of-type {\n",
       "        vertical-align: middle;\n",
       "    }\n",
       "\n",
       "    .dataframe tbody tr th {\n",
       "        vertical-align: top;\n",
       "    }\n",
       "\n",
       "    .dataframe thead th {\n",
       "        text-align: right;\n",
       "    }\n",
       "</style>\n",
       "<table border=\"1\" class=\"dataframe\">\n",
       "  <thead>\n",
       "    <tr style=\"text-align: right;\">\n",
       "      <th></th>\n",
       "      <th>DATE</th>\n",
       "      <th>Per_Capita_GDP</th>\n",
       "    </tr>\n",
       "  </thead>\n",
       "  <tbody>\n",
       "    <tr>\n",
       "      <th>78</th>\n",
       "      <td>7/1/2022</td>\n",
       "      <td>65462</td>\n",
       "    </tr>\n",
       "    <tr>\n",
       "      <th>79</th>\n",
       "      <td>10/1/2022</td>\n",
       "      <td>65783</td>\n",
       "    </tr>\n",
       "    <tr>\n",
       "      <th>80</th>\n",
       "      <td>1/1/2023</td>\n",
       "      <td>66078</td>\n",
       "    </tr>\n",
       "    <tr>\n",
       "      <th>81</th>\n",
       "      <td>4/1/2023</td>\n",
       "      <td>66341</td>\n",
       "    </tr>\n",
       "    <tr>\n",
       "      <th>82</th>\n",
       "      <td>7/1/2023</td>\n",
       "      <td>67083</td>\n",
       "    </tr>\n",
       "  </tbody>\n",
       "</table>\n",
       "</div>"
      ],
      "text/plain": [
       "         DATE  Per_Capita_GDP\n",
       "78   7/1/2022           65462\n",
       "79  10/1/2022           65783\n",
       "80   1/1/2023           66078\n",
       "81   4/1/2023           66341\n",
       "82   7/1/2023           67083"
      ]
     },
     "execution_count": 6,
     "metadata": {},
     "output_type": "execute_result"
    }
   ],
   "source": [
    "# Reading Per Capita GDP Data\n",
    "df_PerCapitaGDP = pd.read_csv(\"C:\\\\Users\\\\suven\\\\OneDrive\\\\Desktop\\\\Shalini\\\\Data Related resume\\\\HomeLLC\\\\Stage1 - Assessment\\\\Data Collection - Copy\\\\PerCapitaGDP.csv\", names = [\"DATE\", \"Per_Capita_GDP\"], skiprows = 1)\n",
    "print(df_PerCapitaGDP.shape)\n",
    "df_PerCapitaGDP.tail()"
   ]
  },
  {
   "cell_type": "markdown",
   "id": "1d1d9967",
   "metadata": {},
   "source": [
    "The data is quarterly. \n",
    "We will do imputation for rest of the months using linear interpolation after we create the final dataframe combining all the data."
   ]
  },
  {
   "cell_type": "code",
   "execution_count": 7,
   "id": "192f8593",
   "metadata": {},
   "outputs": [
    {
     "name": "stdout",
     "output_type": "stream",
     "text": [
      "(249, 2)\n"
     ]
    },
    {
     "data": {
      "text/html": [
       "<div>\n",
       "<style scoped>\n",
       "    .dataframe tbody tr th:only-of-type {\n",
       "        vertical-align: middle;\n",
       "    }\n",
       "\n",
       "    .dataframe tbody tr th {\n",
       "        vertical-align: top;\n",
       "    }\n",
       "\n",
       "    .dataframe thead th {\n",
       "        text-align: right;\n",
       "    }\n",
       "</style>\n",
       "<table border=\"1\" class=\"dataframe\">\n",
       "  <thead>\n",
       "    <tr style=\"text-align: right;\">\n",
       "      <th></th>\n",
       "      <th>DATE</th>\n",
       "      <th>InterestRate</th>\n",
       "    </tr>\n",
       "  </thead>\n",
       "  <tbody>\n",
       "    <tr>\n",
       "      <th>244</th>\n",
       "      <td>5/1/2023</td>\n",
       "      <td>5.06</td>\n",
       "    </tr>\n",
       "    <tr>\n",
       "      <th>245</th>\n",
       "      <td>6/1/2023</td>\n",
       "      <td>5.08</td>\n",
       "    </tr>\n",
       "    <tr>\n",
       "      <th>246</th>\n",
       "      <td>7/1/2023</td>\n",
       "      <td>5.12</td>\n",
       "    </tr>\n",
       "    <tr>\n",
       "      <th>247</th>\n",
       "      <td>8/1/2023</td>\n",
       "      <td>5.33</td>\n",
       "    </tr>\n",
       "    <tr>\n",
       "      <th>248</th>\n",
       "      <td>9/1/2023</td>\n",
       "      <td>5.33</td>\n",
       "    </tr>\n",
       "  </tbody>\n",
       "</table>\n",
       "</div>"
      ],
      "text/plain": [
       "         DATE  InterestRate\n",
       "244  5/1/2023          5.06\n",
       "245  6/1/2023          5.08\n",
       "246  7/1/2023          5.12\n",
       "247  8/1/2023          5.33\n",
       "248  9/1/2023          5.33"
      ]
     },
     "execution_count": 7,
     "metadata": {},
     "output_type": "execute_result"
    }
   ],
   "source": [
    "# Reading Interest Rate Data\n",
    "df_Int_rate = pd.read_csv(\"C:\\\\Users\\\\suven\\\\OneDrive\\\\Desktop\\\\Shalini\\\\Data Related resume\\\\HomeLLC\\\\Stage1 - Assessment\\\\Data Collection - Copy\\\\InterestRate.csv\")\n",
    "print(df_Int_rate.shape)\n",
    "df_Int_rate.tail()"
   ]
  },
  {
   "cell_type": "code",
   "execution_count": 8,
   "id": "a4f46468",
   "metadata": {},
   "outputs": [
    {
     "name": "stdout",
     "output_type": "stream",
     "text": [
      "(250, 2)\n"
     ]
    },
    {
     "data": {
      "text/html": [
       "<div>\n",
       "<style scoped>\n",
       "    .dataframe tbody tr th:only-of-type {\n",
       "        vertical-align: middle;\n",
       "    }\n",
       "\n",
       "    .dataframe tbody tr th {\n",
       "        vertical-align: top;\n",
       "    }\n",
       "\n",
       "    .dataframe thead th {\n",
       "        text-align: right;\n",
       "    }\n",
       "</style>\n",
       "<table border=\"1\" class=\"dataframe\">\n",
       "  <thead>\n",
       "    <tr style=\"text-align: right;\">\n",
       "      <th></th>\n",
       "      <th>DATE</th>\n",
       "      <th>Cons_Price_Index</th>\n",
       "    </tr>\n",
       "  </thead>\n",
       "  <tbody>\n",
       "    <tr>\n",
       "      <th>245</th>\n",
       "      <td>6/1/2023</td>\n",
       "      <td>337.336</td>\n",
       "    </tr>\n",
       "    <tr>\n",
       "      <th>246</th>\n",
       "      <td>7/1/2023</td>\n",
       "      <td>334.576</td>\n",
       "    </tr>\n",
       "    <tr>\n",
       "      <th>247</th>\n",
       "      <td>8/1/2023</td>\n",
       "      <td>333.980</td>\n",
       "    </tr>\n",
       "    <tr>\n",
       "      <th>248</th>\n",
       "      <td>9/1/2023</td>\n",
       "      <td>332.224</td>\n",
       "    </tr>\n",
       "    <tr>\n",
       "      <th>249</th>\n",
       "      <td>NaN</td>\n",
       "      <td>NaN</td>\n",
       "    </tr>\n",
       "  </tbody>\n",
       "</table>\n",
       "</div>"
      ],
      "text/plain": [
       "         DATE  Cons_Price_Index\n",
       "245  6/1/2023           337.336\n",
       "246  7/1/2023           334.576\n",
       "247  8/1/2023           333.980\n",
       "248  9/1/2023           332.224\n",
       "249       NaN               NaN"
      ]
     },
     "execution_count": 8,
     "metadata": {},
     "output_type": "execute_result"
    }
   ],
   "source": [
    "# Reading Construction Price Index Data\n",
    "df_cons_price_index = pd.read_csv(\"C:\\\\Users\\\\suven\\\\OneDrive\\\\Desktop\\\\Shalini\\\\Data Related resume\\\\HomeLLC\\\\Stage1 - Assessment\\\\Data Collection - Copy\\\\ConstructionPriceIndex.csv\", names = [\"DATE\", \"Cons_Price_Index\"], skiprows = 1)\n",
    "\n",
    "print(df_cons_price_index.shape)\n",
    "df_cons_price_index.tail()"
   ]
  },
  {
   "cell_type": "code",
   "execution_count": 9,
   "id": "8754d2c6",
   "metadata": {},
   "outputs": [],
   "source": [
    "df_cons_price_index.drop([249], inplace = True)"
   ]
  },
  {
   "cell_type": "code",
   "execution_count": 10,
   "id": "f79f5484",
   "metadata": {},
   "outputs": [
    {
     "name": "stdout",
     "output_type": "stream",
     "text": [
      "(249, 2)\n"
     ]
    }
   ],
   "source": [
    "print(df_cons_price_index.shape)"
   ]
  },
  {
   "cell_type": "code",
   "execution_count": 11,
   "id": "f405fec7",
   "metadata": {},
   "outputs": [
    {
     "name": "stdout",
     "output_type": "stream",
     "text": [
      "(20, 2)\n"
     ]
    },
    {
     "data": {
      "text/html": [
       "<div>\n",
       "<style scoped>\n",
       "    .dataframe tbody tr th:only-of-type {\n",
       "        vertical-align: middle;\n",
       "    }\n",
       "\n",
       "    .dataframe tbody tr th {\n",
       "        vertical-align: top;\n",
       "    }\n",
       "\n",
       "    .dataframe thead th {\n",
       "        text-align: right;\n",
       "    }\n",
       "</style>\n",
       "<table border=\"1\" class=\"dataframe\">\n",
       "  <thead>\n",
       "    <tr style=\"text-align: right;\">\n",
       "      <th></th>\n",
       "      <th>Indicator Code</th>\n",
       "      <th>UrbPop</th>\n",
       "    </tr>\n",
       "  </thead>\n",
       "  <tbody>\n",
       "    <tr>\n",
       "      <th>15</th>\n",
       "      <td>2018</td>\n",
       "      <td>82.256</td>\n",
       "    </tr>\n",
       "    <tr>\n",
       "      <th>16</th>\n",
       "      <td>2019</td>\n",
       "      <td>82.459</td>\n",
       "    </tr>\n",
       "    <tr>\n",
       "      <th>17</th>\n",
       "      <td>2020</td>\n",
       "      <td>82.664</td>\n",
       "    </tr>\n",
       "    <tr>\n",
       "      <th>18</th>\n",
       "      <td>2021</td>\n",
       "      <td>82.873</td>\n",
       "    </tr>\n",
       "    <tr>\n",
       "      <th>19</th>\n",
       "      <td>2022</td>\n",
       "      <td>83.084</td>\n",
       "    </tr>\n",
       "  </tbody>\n",
       "</table>\n",
       "</div>"
      ],
      "text/plain": [
       "    Indicator Code  UrbPop\n",
       "15            2018  82.256\n",
       "16            2019  82.459\n",
       "17            2020  82.664\n",
       "18            2021  82.873\n",
       "19            2022  83.084"
      ]
     },
     "execution_count": 11,
     "metadata": {},
     "output_type": "execute_result"
    }
   ],
   "source": [
    "# Urban Population Percent\n",
    "\n",
    "df_urban = pd.read_excel(\"C:\\\\Users\\\\suven\\\\OneDrive\\\\Desktop\\\\Shalini\\\\Data Related resume\\\\HomeLLC\\\\Stage1 - Assessment\\\\Data Collection - Copy\\\\UrbanPopulation.xlsx\")\n",
    "print(df_urban.shape)\n",
    "df_urban.tail()"
   ]
  },
  {
   "cell_type": "code",
   "execution_count": 13,
   "id": "5939daf3",
   "metadata": {},
   "outputs": [
    {
     "name": "stdout",
     "output_type": "stream",
     "text": [
      "(21, 2)\n"
     ]
    },
    {
     "data": {
      "text/html": [
       "<div>\n",
       "<style scoped>\n",
       "    .dataframe tbody tr th:only-of-type {\n",
       "        vertical-align: middle;\n",
       "    }\n",
       "\n",
       "    .dataframe tbody tr th {\n",
       "        vertical-align: top;\n",
       "    }\n",
       "\n",
       "    .dataframe thead th {\n",
       "        text-align: right;\n",
       "    }\n",
       "</style>\n",
       "<table border=\"1\" class=\"dataframe\">\n",
       "  <thead>\n",
       "    <tr style=\"text-align: right;\">\n",
       "      <th></th>\n",
       "      <th>DATE</th>\n",
       "      <th>Num_Households</th>\n",
       "    </tr>\n",
       "  </thead>\n",
       "  <tbody>\n",
       "    <tr>\n",
       "      <th>16</th>\n",
       "      <td>1/1/2019</td>\n",
       "      <td>128579</td>\n",
       "    </tr>\n",
       "    <tr>\n",
       "      <th>17</th>\n",
       "      <td>1/1/2020</td>\n",
       "      <td>128451</td>\n",
       "    </tr>\n",
       "    <tr>\n",
       "      <th>18</th>\n",
       "      <td>1/1/2021</td>\n",
       "      <td>129224</td>\n",
       "    </tr>\n",
       "    <tr>\n",
       "      <th>19</th>\n",
       "      <td>1/1/2022</td>\n",
       "      <td>131202</td>\n",
       "    </tr>\n",
       "    <tr>\n",
       "      <th>20</th>\n",
       "      <td>1/1/2023</td>\n",
       "      <td>131434</td>\n",
       "    </tr>\n",
       "  </tbody>\n",
       "</table>\n",
       "</div>"
      ],
      "text/plain": [
       "        DATE  Num_Households\n",
       "16  1/1/2019          128579\n",
       "17  1/1/2020          128451\n",
       "18  1/1/2021          129224\n",
       "19  1/1/2022          131202\n",
       "20  1/1/2023          131434"
      ]
     },
     "execution_count": 13,
     "metadata": {},
     "output_type": "execute_result"
    }
   ],
   "source": [
    "# Number of households\n",
    "\n",
    "df_households = pd.read_csv(\"C:\\\\Users\\\\suven\\\\OneDrive\\\\Desktop\\\\Shalini\\\\Data Related resume\\\\HomeLLC\\\\Stage1 - Assessment\\\\Data Collection - Copy\\\\TotalHouseholds.csv\", names = [\"DATE\", \"Num_Households\"], skiprows = 1)\n",
    "print(df_households.shape)\n",
    "df_households.tail()"
   ]
  },
  {
   "cell_type": "code",
   "execution_count": 14,
   "id": "530b87cc",
   "metadata": {},
   "outputs": [
    {
     "name": "stdout",
     "output_type": "stream",
     "text": [
      "(249, 2)\n"
     ]
    },
    {
     "data": {
      "text/html": [
       "<div>\n",
       "<style scoped>\n",
       "    .dataframe tbody tr th:only-of-type {\n",
       "        vertical-align: middle;\n",
       "    }\n",
       "\n",
       "    .dataframe tbody tr th {\n",
       "        vertical-align: top;\n",
       "    }\n",
       "\n",
       "    .dataframe thead th {\n",
       "        text-align: right;\n",
       "    }\n",
       "</style>\n",
       "<table border=\"1\" class=\"dataframe\">\n",
       "  <thead>\n",
       "    <tr style=\"text-align: right;\">\n",
       "      <th></th>\n",
       "      <th>DATE</th>\n",
       "      <th>Houses</th>\n",
       "    </tr>\n",
       "  </thead>\n",
       "  <tbody>\n",
       "    <tr>\n",
       "      <th>244</th>\n",
       "      <td>5/1/2023</td>\n",
       "      <td>1534.0</td>\n",
       "    </tr>\n",
       "    <tr>\n",
       "      <th>245</th>\n",
       "      <td>6/1/2023</td>\n",
       "      <td>1492.0</td>\n",
       "    </tr>\n",
       "    <tr>\n",
       "      <th>246</th>\n",
       "      <td>7/1/2023</td>\n",
       "      <td>1334.0</td>\n",
       "    </tr>\n",
       "    <tr>\n",
       "      <th>247</th>\n",
       "      <td>8/1/2023</td>\n",
       "      <td>1370.0</td>\n",
       "    </tr>\n",
       "    <tr>\n",
       "      <th>248</th>\n",
       "      <td>9/1/2023</td>\n",
       "      <td>1478.0</td>\n",
       "    </tr>\n",
       "  </tbody>\n",
       "</table>\n",
       "</div>"
      ],
      "text/plain": [
       "         DATE  Houses\n",
       "244  5/1/2023  1534.0\n",
       "245  6/1/2023  1492.0\n",
       "246  7/1/2023  1334.0\n",
       "247  8/1/2023  1370.0\n",
       "248  9/1/2023  1478.0"
      ]
     },
     "execution_count": 14,
     "metadata": {},
     "output_type": "execute_result"
    }
   ],
   "source": [
    "# Monthly new house supply\n",
    "df_house = pd.read_csv(\"C:\\\\Users\\\\suven\\\\OneDrive\\\\Desktop\\\\Shalini\\\\Data Related resume\\\\HomeLLC\\\\Stage1 - Assessment\\\\Data Collection - Copy\\\\NewConstructedUnits.csv\", names = [\"DATE\", \"Houses\"], skiprows = 1).drop([249])\n",
    "print(df_house.shape)\n",
    "df_house.tail()"
   ]
  },
  {
   "cell_type": "code",
   "execution_count": 15,
   "id": "927a6161",
   "metadata": {},
   "outputs": [
    {
     "name": "stdout",
     "output_type": "stream",
     "text": [
      "(249, 2)\n"
     ]
    },
    {
     "data": {
      "text/html": [
       "<div>\n",
       "<style scoped>\n",
       "    .dataframe tbody tr th:only-of-type {\n",
       "        vertical-align: middle;\n",
       "    }\n",
       "\n",
       "    .dataframe tbody tr th {\n",
       "        vertical-align: top;\n",
       "    }\n",
       "\n",
       "    .dataframe thead th {\n",
       "        text-align: right;\n",
       "    }\n",
       "</style>\n",
       "<table border=\"1\" class=\"dataframe\">\n",
       "  <thead>\n",
       "    <tr style=\"text-align: right;\">\n",
       "      <th></th>\n",
       "      <th>DATE</th>\n",
       "      <th>Income</th>\n",
       "    </tr>\n",
       "  </thead>\n",
       "  <tbody>\n",
       "    <tr>\n",
       "      <th>244</th>\n",
       "      <td>5/1/2023</td>\n",
       "      <td>16818.5</td>\n",
       "    </tr>\n",
       "    <tr>\n",
       "      <th>245</th>\n",
       "      <td>6/1/2023</td>\n",
       "      <td>16809.5</td>\n",
       "    </tr>\n",
       "    <tr>\n",
       "      <th>246</th>\n",
       "      <td>7/1/2023</td>\n",
       "      <td>16796.9</td>\n",
       "    </tr>\n",
       "    <tr>\n",
       "      <th>247</th>\n",
       "      <td>8/1/2023</td>\n",
       "      <td>16799.7</td>\n",
       "    </tr>\n",
       "    <tr>\n",
       "      <th>248</th>\n",
       "      <td>9/1/2023</td>\n",
       "      <td>16804.8</td>\n",
       "    </tr>\n",
       "  </tbody>\n",
       "</table>\n",
       "</div>"
      ],
      "text/plain": [
       "         DATE   Income\n",
       "244  5/1/2023  16818.5\n",
       "245  6/1/2023  16809.5\n",
       "246  7/1/2023  16796.9\n",
       "247  8/1/2023  16799.7\n",
       "248  9/1/2023  16804.8"
      ]
     },
     "execution_count": 15,
     "metadata": {},
     "output_type": "execute_result"
    }
   ],
   "source": [
    "# Real Median Household Income\n",
    "\n",
    "df_income = pd.read_csv(\"C:\\\\Users\\\\suven\\\\OneDrive\\\\Desktop\\\\Shalini\\\\Data Related resume\\\\HomeLLC\\\\Stage1 - Assessment\\\\Data Collection - Copy\\\\Income.csv\", names = [\"DATE\", \"Income\"], skiprows = 1).drop([249])\n",
    "print(df_income.shape)\n",
    "df_income.tail()"
   ]
  },
  {
   "cell_type": "code",
   "execution_count": 16,
   "id": "8aa0f38b",
   "metadata": {},
   "outputs": [
    {
     "name": "stdout",
     "output_type": "stream",
     "text": [
      "(249, 2)\n"
     ]
    },
    {
     "data": {
      "text/html": [
       "<div>\n",
       "<style scoped>\n",
       "    .dataframe tbody tr th:only-of-type {\n",
       "        vertical-align: middle;\n",
       "    }\n",
       "\n",
       "    .dataframe tbody tr th {\n",
       "        vertical-align: top;\n",
       "    }\n",
       "\n",
       "    .dataframe thead th {\n",
       "        text-align: right;\n",
       "    }\n",
       "</style>\n",
       "<table border=\"1\" class=\"dataframe\">\n",
       "  <thead>\n",
       "    <tr style=\"text-align: right;\">\n",
       "      <th></th>\n",
       "      <th>DATE</th>\n",
       "      <th>CPI</th>\n",
       "    </tr>\n",
       "  </thead>\n",
       "  <tbody>\n",
       "    <tr>\n",
       "      <th>244</th>\n",
       "      <td>5/1/2023</td>\n",
       "      <td>303.294</td>\n",
       "    </tr>\n",
       "    <tr>\n",
       "      <th>245</th>\n",
       "      <td>6/1/2023</td>\n",
       "      <td>303.841</td>\n",
       "    </tr>\n",
       "    <tr>\n",
       "      <th>246</th>\n",
       "      <td>7/1/2023</td>\n",
       "      <td>304.348</td>\n",
       "    </tr>\n",
       "    <tr>\n",
       "      <th>247</th>\n",
       "      <td>8/1/2023</td>\n",
       "      <td>306.269</td>\n",
       "    </tr>\n",
       "    <tr>\n",
       "      <th>248</th>\n",
       "      <td>9/1/2023</td>\n",
       "      <td>307.481</td>\n",
       "    </tr>\n",
       "  </tbody>\n",
       "</table>\n",
       "</div>"
      ],
      "text/plain": [
       "         DATE      CPI\n",
       "244  5/1/2023  303.294\n",
       "245  6/1/2023  303.841\n",
       "246  7/1/2023  304.348\n",
       "247  8/1/2023  306.269\n",
       "248  9/1/2023  307.481"
      ]
     },
     "execution_count": 16,
     "metadata": {},
     "output_type": "execute_result"
    }
   ],
   "source": [
    "# Reading Consumer Price Index dataset\n",
    "df_CPI = pd.read_csv(\"C:\\\\Users\\\\suven\\\\OneDrive\\\\Desktop\\\\Shalini\\\\Data Related resume\\\\HomeLLC\\\\Stage1 - Assessment\\\\Data Collection - Copy\\\\CPI.csv\", names = [\"DATE\", \"CPI\"], skiprows = 1).drop([249])\n",
    "print(df_CPI.shape)\n",
    "df_CPI.tail()"
   ]
  },
  {
   "cell_type": "code",
   "execution_count": 17,
   "id": "0f968d38",
   "metadata": {},
   "outputs": [
    {
     "name": "stdout",
     "output_type": "stream",
     "text": [
      "(249, 2)\n"
     ]
    },
    {
     "data": {
      "text/html": [
       "<div>\n",
       "<style scoped>\n",
       "    .dataframe tbody tr th:only-of-type {\n",
       "        vertical-align: middle;\n",
       "    }\n",
       "\n",
       "    .dataframe tbody tr th {\n",
       "        vertical-align: top;\n",
       "    }\n",
       "\n",
       "    .dataframe thead th {\n",
       "        text-align: right;\n",
       "    }\n",
       "</style>\n",
       "<table border=\"1\" class=\"dataframe\">\n",
       "  <thead>\n",
       "    <tr style=\"text-align: right;\">\n",
       "      <th></th>\n",
       "      <th>DATE</th>\n",
       "      <th>Working_Population</th>\n",
       "    </tr>\n",
       "  </thead>\n",
       "  <tbody>\n",
       "    <tr>\n",
       "      <th>244</th>\n",
       "      <td>5/1/2023</td>\n",
       "      <td>208612844.2</td>\n",
       "    </tr>\n",
       "    <tr>\n",
       "      <th>245</th>\n",
       "      <td>6/1/2023</td>\n",
       "      <td>208706920.0</td>\n",
       "    </tr>\n",
       "    <tr>\n",
       "      <th>246</th>\n",
       "      <td>7/1/2023</td>\n",
       "      <td>208779237.3</td>\n",
       "    </tr>\n",
       "    <tr>\n",
       "      <th>247</th>\n",
       "      <td>8/1/2023</td>\n",
       "      <td>208906586.8</td>\n",
       "    </tr>\n",
       "    <tr>\n",
       "      <th>248</th>\n",
       "      <td>9/1/2023</td>\n",
       "      <td>209117169.8</td>\n",
       "    </tr>\n",
       "  </tbody>\n",
       "</table>\n",
       "</div>"
      ],
      "text/plain": [
       "         DATE  Working_Population\n",
       "244  5/1/2023         208612844.2\n",
       "245  6/1/2023         208706920.0\n",
       "246  7/1/2023         208779237.3\n",
       "247  8/1/2023         208906586.8\n",
       "248  9/1/2023         209117169.8"
      ]
     },
     "execution_count": 17,
     "metadata": {},
     "output_type": "execute_result"
    }
   ],
   "source": [
    "# Working age population\n",
    "\n",
    "df_working = pd.read_csv(\"C:\\\\Users\\\\suven\\\\OneDrive\\\\Desktop\\\\Shalini\\\\Data Related resume\\\\HomeLLC\\\\Stage1 - Assessment\\\\Data Collection - Copy\\\\WorkingAgePopulation.csv\", names = [\"DATE\", \"Working_Population\"], skiprows = 1).drop([249])\n",
    "print(df_working.shape)\n",
    "df_working.tail()"
   ]
  },
  {
   "cell_type": "code",
   "execution_count": 18,
   "id": "3edd9f0d",
   "metadata": {},
   "outputs": [
    {
     "data": {
      "text/html": [
       "<div>\n",
       "<style scoped>\n",
       "    .dataframe tbody tr th:only-of-type {\n",
       "        vertical-align: middle;\n",
       "    }\n",
       "\n",
       "    .dataframe tbody tr th {\n",
       "        vertical-align: top;\n",
       "    }\n",
       "\n",
       "    .dataframe thead th {\n",
       "        text-align: right;\n",
       "    }\n",
       "</style>\n",
       "<table border=\"1\" class=\"dataframe\">\n",
       "  <thead>\n",
       "    <tr style=\"text-align: right;\">\n",
       "      <th></th>\n",
       "      <th>DATE</th>\n",
       "      <th>HousePriceIndex</th>\n",
       "      <th>Year</th>\n",
       "      <th>Month</th>\n",
       "      <th>Per_Capita_GDP</th>\n",
       "    </tr>\n",
       "  </thead>\n",
       "  <tbody>\n",
       "    <tr>\n",
       "      <th>0</th>\n",
       "      <td>2003-01-01</td>\n",
       "      <td>128.461</td>\n",
       "      <td>2003</td>\n",
       "      <td>1</td>\n",
       "      <td>50462.0</td>\n",
       "    </tr>\n",
       "    <tr>\n",
       "      <th>1</th>\n",
       "      <td>2003-02-01</td>\n",
       "      <td>129.355</td>\n",
       "      <td>2003</td>\n",
       "      <td>2</td>\n",
       "      <td>NaN</td>\n",
       "    </tr>\n",
       "    <tr>\n",
       "      <th>2</th>\n",
       "      <td>2003-03-01</td>\n",
       "      <td>130.148</td>\n",
       "      <td>2003</td>\n",
       "      <td>3</td>\n",
       "      <td>NaN</td>\n",
       "    </tr>\n",
       "    <tr>\n",
       "      <th>3</th>\n",
       "      <td>2003-04-01</td>\n",
       "      <td>130.884</td>\n",
       "      <td>2003</td>\n",
       "      <td>4</td>\n",
       "      <td>50796.0</td>\n",
       "    </tr>\n",
       "    <tr>\n",
       "      <th>4</th>\n",
       "      <td>2003-05-01</td>\n",
       "      <td>131.735</td>\n",
       "      <td>2003</td>\n",
       "      <td>5</td>\n",
       "      <td>NaN</td>\n",
       "    </tr>\n",
       "  </tbody>\n",
       "</table>\n",
       "</div>"
      ],
      "text/plain": [
       "        DATE  HousePriceIndex  Year  Month  Per_Capita_GDP\n",
       "0 2003-01-01          128.461  2003      1         50462.0\n",
       "1 2003-02-01          129.355  2003      2             NaN\n",
       "2 2003-03-01          130.148  2003      3             NaN\n",
       "3 2003-04-01          130.884  2003      4         50796.0\n",
       "4 2003-05-01          131.735  2003      5             NaN"
      ]
     },
     "execution_count": 18,
     "metadata": {},
     "output_type": "execute_result"
    }
   ],
   "source": [
    "# Merging Per Capita GDP (Quarterly data)\n",
    "df_PerCapitaGDP[\"DATE\"] = pd.to_datetime(df_PerCapitaGDP[\"DATE\"])\n",
    "df_HPI = pd.merge(df_HPI,df_PerCapitaGDP, how = \"left\")\n",
    "df_HPI.head()\n"
   ]
  },
  {
   "cell_type": "code",
   "execution_count": 19,
   "id": "62caced9",
   "metadata": {},
   "outputs": [
    {
     "name": "stdout",
     "output_type": "stream",
     "text": [
      "(249, 11)\n"
     ]
    },
    {
     "data": {
      "text/html": [
       "<div>\n",
       "<style scoped>\n",
       "    .dataframe tbody tr th:only-of-type {\n",
       "        vertical-align: middle;\n",
       "    }\n",
       "\n",
       "    .dataframe tbody tr th {\n",
       "        vertical-align: top;\n",
       "    }\n",
       "\n",
       "    .dataframe thead th {\n",
       "        text-align: right;\n",
       "    }\n",
       "</style>\n",
       "<table border=\"1\" class=\"dataframe\">\n",
       "  <thead>\n",
       "    <tr style=\"text-align: right;\">\n",
       "      <th></th>\n",
       "      <th>HousePriceIndex</th>\n",
       "      <th>Year</th>\n",
       "      <th>Month</th>\n",
       "      <th>Per_Capita_GDP</th>\n",
       "      <th>Working_Population</th>\n",
       "      <th>Houses</th>\n",
       "      <th>CPI</th>\n",
       "      <th>UNRATE</th>\n",
       "      <th>Cons_Price_Index</th>\n",
       "      <th>InterestRate</th>\n",
       "      <th>Income</th>\n",
       "    </tr>\n",
       "    <tr>\n",
       "      <th>DATE</th>\n",
       "      <th></th>\n",
       "      <th></th>\n",
       "      <th></th>\n",
       "      <th></th>\n",
       "      <th></th>\n",
       "      <th></th>\n",
       "      <th></th>\n",
       "      <th></th>\n",
       "      <th></th>\n",
       "      <th></th>\n",
       "      <th></th>\n",
       "    </tr>\n",
       "  </thead>\n",
       "  <tbody>\n",
       "    <tr>\n",
       "      <th>2003-01-01</th>\n",
       "      <td>128.461</td>\n",
       "      <td>2003</td>\n",
       "      <td>1</td>\n",
       "      <td>50462.0</td>\n",
       "      <td>185635346.4</td>\n",
       "      <td>1654.0</td>\n",
       "      <td>182.6</td>\n",
       "      <td>5.8</td>\n",
       "      <td>144.4</td>\n",
       "      <td>1.24</td>\n",
       "      <td>10710.4</td>\n",
       "    </tr>\n",
       "    <tr>\n",
       "      <th>2003-02-01</th>\n",
       "      <td>129.355</td>\n",
       "      <td>2003</td>\n",
       "      <td>2</td>\n",
       "      <td>NaN</td>\n",
       "      <td>185869692.3</td>\n",
       "      <td>1688.0</td>\n",
       "      <td>183.6</td>\n",
       "      <td>5.9</td>\n",
       "      <td>145.2</td>\n",
       "      <td>1.26</td>\n",
       "      <td>10674.0</td>\n",
       "    </tr>\n",
       "    <tr>\n",
       "      <th>2003-03-01</th>\n",
       "      <td>130.148</td>\n",
       "      <td>2003</td>\n",
       "      <td>3</td>\n",
       "      <td>NaN</td>\n",
       "      <td>186085118.2</td>\n",
       "      <td>1638.0</td>\n",
       "      <td>183.9</td>\n",
       "      <td>5.9</td>\n",
       "      <td>145.2</td>\n",
       "      <td>1.25</td>\n",
       "      <td>10696.5</td>\n",
       "    </tr>\n",
       "    <tr>\n",
       "      <th>2003-04-01</th>\n",
       "      <td>130.884</td>\n",
       "      <td>2003</td>\n",
       "      <td>4</td>\n",
       "      <td>50796.0</td>\n",
       "      <td>186470754.0</td>\n",
       "      <td>1662.0</td>\n",
       "      <td>183.2</td>\n",
       "      <td>6.0</td>\n",
       "      <td>145.9</td>\n",
       "      <td>1.26</td>\n",
       "      <td>10752.7</td>\n",
       "    </tr>\n",
       "    <tr>\n",
       "      <th>2003-05-01</th>\n",
       "      <td>131.735</td>\n",
       "      <td>2003</td>\n",
       "      <td>5</td>\n",
       "      <td>NaN</td>\n",
       "      <td>186649078.0</td>\n",
       "      <td>1733.0</td>\n",
       "      <td>182.9</td>\n",
       "      <td>6.1</td>\n",
       "      <td>145.8</td>\n",
       "      <td>1.26</td>\n",
       "      <td>10832.0</td>\n",
       "    </tr>\n",
       "  </tbody>\n",
       "</table>\n",
       "</div>"
      ],
      "text/plain": [
       "            HousePriceIndex  Year  Month  Per_Capita_GDP  Working_Population  \\\n",
       "DATE                                                                           \n",
       "2003-01-01          128.461  2003      1         50462.0         185635346.4   \n",
       "2003-02-01          129.355  2003      2             NaN         185869692.3   \n",
       "2003-03-01          130.148  2003      3             NaN         186085118.2   \n",
       "2003-04-01          130.884  2003      4         50796.0         186470754.0   \n",
       "2003-05-01          131.735  2003      5             NaN         186649078.0   \n",
       "\n",
       "            Houses    CPI  UNRATE  Cons_Price_Index  InterestRate   Income  \n",
       "DATE                                                                        \n",
       "2003-01-01  1654.0  182.6     5.8             144.4          1.24  10710.4  \n",
       "2003-02-01  1688.0  183.6     5.9             145.2          1.26  10674.0  \n",
       "2003-03-01  1638.0  183.9     5.9             145.2          1.25  10696.5  \n",
       "2003-04-01  1662.0  183.2     6.0             145.9          1.26  10752.7  \n",
       "2003-05-01  1733.0  182.9     6.1             145.8          1.26  10832.0  "
      ]
     },
     "execution_count": 19,
     "metadata": {},
     "output_type": "execute_result"
    }
   ],
   "source": [
    "# Merging dataframes having monthly data to create one dataframe\n",
    "df = pd.DataFrame()\n",
    "df_bymonth = [df_HPI, df_working,df_house, df_CPI, df_unemp, df_cons_price_index, df_Int_rate,df_income]\n",
    "for df1 in df_bymonth:\n",
    "    df1[\"DATE\"] = pd.to_datetime(df1[\"DATE\"])\n",
    "    df1 = df1.set_index(\"DATE\")\n",
    "    df = pd.concat([df,df1], axis = 1)\n",
    "print(df.shape)\n",
    "df.head()"
   ]
  },
  {
   "cell_type": "markdown",
   "id": "53e90e9c",
   "metadata": {},
   "source": [
    "# Checking Missing Values"
   ]
  },
  {
   "cell_type": "code",
   "execution_count": 20,
   "id": "ae2d585a",
   "metadata": {},
   "outputs": [
    {
     "data": {
      "text/plain": [
       "HousePriceIndex         0\n",
       "Year                    0\n",
       "Month                   0\n",
       "Per_Capita_GDP        166\n",
       "Working_Population      0\n",
       "Houses                  0\n",
       "CPI                     0\n",
       "UNRATE                  0\n",
       "Cons_Price_Index        0\n",
       "InterestRate            0\n",
       "Income                  0\n",
       "dtype: int64"
      ]
     },
     "execution_count": 20,
     "metadata": {},
     "output_type": "execute_result"
    }
   ],
   "source": [
    "df.isna().sum()"
   ]
  },
  {
   "cell_type": "markdown",
   "id": "180b3692",
   "metadata": {},
   "source": [
    "The \"Per_Capita_GDP\" column has missing values because the data was quarterly. The missing values in the other columns is due to unavailability of fresh data. We will first fill the missing values in the \"Per_Capita_GDP\" column using linear interpolation. We will drop the rows having missing values in the other columns. This means that we will use data from 2003 to 2023"
   ]
  },
  {
   "cell_type": "code",
   "execution_count": 21,
   "id": "45c943a9",
   "metadata": {},
   "outputs": [],
   "source": [
    "# Filling missing values in the Per_Capita_GDP column using linear interpolation\n",
    "df[\"Per_Capita_GDP\"] = df[\"Per_Capita_GDP\"].interpolate()"
   ]
  },
  {
   "cell_type": "code",
   "execution_count": 22,
   "id": "530116cb",
   "metadata": {},
   "outputs": [
    {
     "data": {
      "text/html": [
       "<div>\n",
       "<style scoped>\n",
       "    .dataframe tbody tr th:only-of-type {\n",
       "        vertical-align: middle;\n",
       "    }\n",
       "\n",
       "    .dataframe tbody tr th {\n",
       "        vertical-align: top;\n",
       "    }\n",
       "\n",
       "    .dataframe thead th {\n",
       "        text-align: right;\n",
       "    }\n",
       "</style>\n",
       "<table border=\"1\" class=\"dataframe\">\n",
       "  <thead>\n",
       "    <tr style=\"text-align: right;\">\n",
       "      <th></th>\n",
       "      <th>HousePriceIndex</th>\n",
       "      <th>Year</th>\n",
       "      <th>Month</th>\n",
       "      <th>Per_Capita_GDP</th>\n",
       "      <th>Working_Population</th>\n",
       "      <th>Houses</th>\n",
       "      <th>CPI</th>\n",
       "      <th>UNRATE</th>\n",
       "      <th>Cons_Price_Index</th>\n",
       "      <th>InterestRate</th>\n",
       "      <th>Income</th>\n",
       "    </tr>\n",
       "    <tr>\n",
       "      <th>DATE</th>\n",
       "      <th></th>\n",
       "      <th></th>\n",
       "      <th></th>\n",
       "      <th></th>\n",
       "      <th></th>\n",
       "      <th></th>\n",
       "      <th></th>\n",
       "      <th></th>\n",
       "      <th></th>\n",
       "      <th></th>\n",
       "      <th></th>\n",
       "    </tr>\n",
       "  </thead>\n",
       "  <tbody>\n",
       "    <tr>\n",
       "      <th>2003-01-01</th>\n",
       "      <td>128.461</td>\n",
       "      <td>2003</td>\n",
       "      <td>1</td>\n",
       "      <td>50462.000000</td>\n",
       "      <td>185635346.4</td>\n",
       "      <td>1654.0</td>\n",
       "      <td>182.6</td>\n",
       "      <td>5.8</td>\n",
       "      <td>144.4</td>\n",
       "      <td>1.24</td>\n",
       "      <td>10710.4</td>\n",
       "    </tr>\n",
       "    <tr>\n",
       "      <th>2003-02-01</th>\n",
       "      <td>129.355</td>\n",
       "      <td>2003</td>\n",
       "      <td>2</td>\n",
       "      <td>50573.333333</td>\n",
       "      <td>185869692.3</td>\n",
       "      <td>1688.0</td>\n",
       "      <td>183.6</td>\n",
       "      <td>5.9</td>\n",
       "      <td>145.2</td>\n",
       "      <td>1.26</td>\n",
       "      <td>10674.0</td>\n",
       "    </tr>\n",
       "    <tr>\n",
       "      <th>2003-03-01</th>\n",
       "      <td>130.148</td>\n",
       "      <td>2003</td>\n",
       "      <td>3</td>\n",
       "      <td>50684.666667</td>\n",
       "      <td>186085118.2</td>\n",
       "      <td>1638.0</td>\n",
       "      <td>183.9</td>\n",
       "      <td>5.9</td>\n",
       "      <td>145.2</td>\n",
       "      <td>1.25</td>\n",
       "      <td>10696.5</td>\n",
       "    </tr>\n",
       "    <tr>\n",
       "      <th>2003-04-01</th>\n",
       "      <td>130.884</td>\n",
       "      <td>2003</td>\n",
       "      <td>4</td>\n",
       "      <td>50796.000000</td>\n",
       "      <td>186470754.0</td>\n",
       "      <td>1662.0</td>\n",
       "      <td>183.2</td>\n",
       "      <td>6.0</td>\n",
       "      <td>145.9</td>\n",
       "      <td>1.26</td>\n",
       "      <td>10752.7</td>\n",
       "    </tr>\n",
       "    <tr>\n",
       "      <th>2003-05-01</th>\n",
       "      <td>131.735</td>\n",
       "      <td>2003</td>\n",
       "      <td>5</td>\n",
       "      <td>51034.666667</td>\n",
       "      <td>186649078.0</td>\n",
       "      <td>1733.0</td>\n",
       "      <td>182.9</td>\n",
       "      <td>6.1</td>\n",
       "      <td>145.8</td>\n",
       "      <td>1.26</td>\n",
       "      <td>10832.0</td>\n",
       "    </tr>\n",
       "  </tbody>\n",
       "</table>\n",
       "</div>"
      ],
      "text/plain": [
       "            HousePriceIndex  Year  Month  Per_Capita_GDP  Working_Population  \\\n",
       "DATE                                                                           \n",
       "2003-01-01          128.461  2003      1    50462.000000         185635346.4   \n",
       "2003-02-01          129.355  2003      2    50573.333333         185869692.3   \n",
       "2003-03-01          130.148  2003      3    50684.666667         186085118.2   \n",
       "2003-04-01          130.884  2003      4    50796.000000         186470754.0   \n",
       "2003-05-01          131.735  2003      5    51034.666667         186649078.0   \n",
       "\n",
       "            Houses    CPI  UNRATE  Cons_Price_Index  InterestRate   Income  \n",
       "DATE                                                                        \n",
       "2003-01-01  1654.0  182.6     5.8             144.4          1.24  10710.4  \n",
       "2003-02-01  1688.0  183.6     5.9             145.2          1.26  10674.0  \n",
       "2003-03-01  1638.0  183.9     5.9             145.2          1.25  10696.5  \n",
       "2003-04-01  1662.0  183.2     6.0             145.9          1.26  10752.7  \n",
       "2003-05-01  1733.0  182.9     6.1             145.8          1.26  10832.0  "
      ]
     },
     "execution_count": 22,
     "metadata": {},
     "output_type": "execute_result"
    }
   ],
   "source": [
    "df.head()"
   ]
  },
  {
   "cell_type": "code",
   "execution_count": 23,
   "id": "4924285e",
   "metadata": {},
   "outputs": [],
   "source": [
    "df.dropna(inplace = True)"
   ]
  },
  {
   "cell_type": "code",
   "execution_count": 24,
   "id": "50e0e072",
   "metadata": {},
   "outputs": [
    {
     "data": {
      "text/plain": [
       "HousePriceIndex       0\n",
       "Year                  0\n",
       "Month                 0\n",
       "Per_Capita_GDP        0\n",
       "Working_Population    0\n",
       "Houses                0\n",
       "CPI                   0\n",
       "UNRATE                0\n",
       "Cons_Price_Index      0\n",
       "InterestRate          0\n",
       "Income                0\n",
       "dtype: int64"
      ]
     },
     "execution_count": 24,
     "metadata": {},
     "output_type": "execute_result"
    }
   ],
   "source": [
    "# Checking missing values now\n",
    "df.isna().sum()"
   ]
  },
  {
   "cell_type": "markdown",
   "id": "3992f47f",
   "metadata": {},
   "source": [
    "- There are no missing values in the dataset now."
   ]
  },
  {
   "cell_type": "code",
   "execution_count": 25,
   "id": "47214b71",
   "metadata": {},
   "outputs": [
    {
     "name": "stdout",
     "output_type": "stream",
     "text": [
      "<class 'pandas.core.frame.DataFrame'>\n",
      "DatetimeIndex: 249 entries, 2003-01-01 to 2023-09-01\n",
      "Data columns (total 11 columns):\n",
      " #   Column              Non-Null Count  Dtype  \n",
      "---  ------              --------------  -----  \n",
      " 0   HousePriceIndex     249 non-null    float64\n",
      " 1   Year                249 non-null    int64  \n",
      " 2   Month               249 non-null    int64  \n",
      " 3   Per_Capita_GDP      249 non-null    float64\n",
      " 4   Working_Population  249 non-null    float64\n",
      " 5   Houses              249 non-null    float64\n",
      " 6   CPI                 249 non-null    float64\n",
      " 7   UNRATE              249 non-null    float64\n",
      " 8   Cons_Price_Index    249 non-null    float64\n",
      " 9   InterestRate        249 non-null    float64\n",
      " 10  Income              249 non-null    float64\n",
      "dtypes: float64(9), int64(2)\n",
      "memory usage: 23.3 KB\n"
     ]
    }
   ],
   "source": [
    "df.info()"
   ]
  },
  {
   "cell_type": "markdown",
   "id": "25a016cc",
   "metadata": {},
   "source": [
    "- No missing values in the dataset\n",
    "- All columns have numeric( int or float) data type\n",
    "- There are in total 240 rows"
   ]
  },
  {
   "cell_type": "markdown",
   "id": "62dc7bd5",
   "metadata": {},
   "source": [
    "# Exploratory Data Analysis"
   ]
  },
  {
   "cell_type": "code",
   "execution_count": 26,
   "id": "8d56c76c",
   "metadata": {},
   "outputs": [
    {
     "data": {
      "text/html": [
       "<div>\n",
       "<style scoped>\n",
       "    .dataframe tbody tr th:only-of-type {\n",
       "        vertical-align: middle;\n",
       "    }\n",
       "\n",
       "    .dataframe tbody tr th {\n",
       "        vertical-align: top;\n",
       "    }\n",
       "\n",
       "    .dataframe thead th {\n",
       "        text-align: right;\n",
       "    }\n",
       "</style>\n",
       "<table border=\"1\" class=\"dataframe\">\n",
       "  <thead>\n",
       "    <tr style=\"text-align: right;\">\n",
       "      <th></th>\n",
       "      <th>HousePriceIndex</th>\n",
       "      <th>Per_Capita_GDP</th>\n",
       "      <th>Working_Population</th>\n",
       "      <th>Houses</th>\n",
       "      <th>CPI</th>\n",
       "      <th>UNRATE</th>\n",
       "      <th>Cons_Price_Index</th>\n",
       "      <th>InterestRate</th>\n",
       "      <th>Income</th>\n",
       "    </tr>\n",
       "    <tr>\n",
       "      <th>DATE</th>\n",
       "      <th></th>\n",
       "      <th></th>\n",
       "      <th></th>\n",
       "      <th></th>\n",
       "      <th></th>\n",
       "      <th></th>\n",
       "      <th></th>\n",
       "      <th></th>\n",
       "      <th></th>\n",
       "    </tr>\n",
       "  </thead>\n",
       "  <tbody>\n",
       "    <tr>\n",
       "      <th>2003-01-01</th>\n",
       "      <td>128.461</td>\n",
       "      <td>50462.000000</td>\n",
       "      <td>185635346.4</td>\n",
       "      <td>1654.0</td>\n",
       "      <td>182.6</td>\n",
       "      <td>5.8</td>\n",
       "      <td>144.4</td>\n",
       "      <td>1.24</td>\n",
       "      <td>10710.4</td>\n",
       "    </tr>\n",
       "    <tr>\n",
       "      <th>2003-02-01</th>\n",
       "      <td>129.355</td>\n",
       "      <td>50573.333333</td>\n",
       "      <td>185869692.3</td>\n",
       "      <td>1688.0</td>\n",
       "      <td>183.6</td>\n",
       "      <td>5.9</td>\n",
       "      <td>145.2</td>\n",
       "      <td>1.26</td>\n",
       "      <td>10674.0</td>\n",
       "    </tr>\n",
       "    <tr>\n",
       "      <th>2003-03-01</th>\n",
       "      <td>130.148</td>\n",
       "      <td>50684.666667</td>\n",
       "      <td>186085118.2</td>\n",
       "      <td>1638.0</td>\n",
       "      <td>183.9</td>\n",
       "      <td>5.9</td>\n",
       "      <td>145.2</td>\n",
       "      <td>1.25</td>\n",
       "      <td>10696.5</td>\n",
       "    </tr>\n",
       "    <tr>\n",
       "      <th>2003-04-01</th>\n",
       "      <td>130.884</td>\n",
       "      <td>50796.000000</td>\n",
       "      <td>186470754.0</td>\n",
       "      <td>1662.0</td>\n",
       "      <td>183.2</td>\n",
       "      <td>6.0</td>\n",
       "      <td>145.9</td>\n",
       "      <td>1.26</td>\n",
       "      <td>10752.7</td>\n",
       "    </tr>\n",
       "    <tr>\n",
       "      <th>2003-05-01</th>\n",
       "      <td>131.735</td>\n",
       "      <td>51034.666667</td>\n",
       "      <td>186649078.0</td>\n",
       "      <td>1733.0</td>\n",
       "      <td>182.9</td>\n",
       "      <td>6.1</td>\n",
       "      <td>145.8</td>\n",
       "      <td>1.26</td>\n",
       "      <td>10832.0</td>\n",
       "    </tr>\n",
       "  </tbody>\n",
       "</table>\n",
       "</div>"
      ],
      "text/plain": [
       "            HousePriceIndex  Per_Capita_GDP  Working_Population  Houses  \\\n",
       "DATE                                                                      \n",
       "2003-01-01          128.461    50462.000000         185635346.4  1654.0   \n",
       "2003-02-01          129.355    50573.333333         185869692.3  1688.0   \n",
       "2003-03-01          130.148    50684.666667         186085118.2  1638.0   \n",
       "2003-04-01          130.884    50796.000000         186470754.0  1662.0   \n",
       "2003-05-01          131.735    51034.666667         186649078.0  1733.0   \n",
       "\n",
       "              CPI  UNRATE  Cons_Price_Index  InterestRate   Income  \n",
       "DATE                                                                \n",
       "2003-01-01  182.6     5.8             144.4          1.24  10710.4  \n",
       "2003-02-01  183.6     5.9             145.2          1.26  10674.0  \n",
       "2003-03-01  183.9     5.9             145.2          1.25  10696.5  \n",
       "2003-04-01  183.2     6.0             145.9          1.26  10752.7  \n",
       "2003-05-01  182.9     6.1             145.8          1.26  10832.0  "
      ]
     },
     "execution_count": 26,
     "metadata": {},
     "output_type": "execute_result"
    }
   ],
   "source": [
    "# Dropping Month and Year columns from the dataset as they are not needed in the analysis\n",
    "\n",
    "df.drop(columns = [\"Year\", \"Month\"], inplace = True)\n",
    "df.head()"
   ]
  },
  {
   "cell_type": "markdown",
   "id": "3527863b",
   "metadata": {},
   "source": [
    "### Checking the correlation between the variables"
   ]
  },
  {
   "cell_type": "code",
   "execution_count": 27,
   "id": "24240140",
   "metadata": {},
   "outputs": [
    {
     "data": {
      "image/png": "[encoded data removed]",
      "text/plain": [
       "<Figure size 864x576 with 2 Axes>"
      ]
     },
     "metadata": {
      "needs_background": "light"
     },
     "output_type": "display_data"
    }
   ],
   "source": [
    "# Plotting the correlation matrix\n",
    "plt.figure(figsize=(12, 8))\n",
    "sns.heatmap(df.corr(), annot=True, cmap='coolwarm')\n",
    "plt.title(\"Full Correlation Matrix including House Price Index\")\n",
    "plt.show()"
   ]
  },
  {
   "cell_type": "markdown",
   "id": "61e204c6",
   "metadata": {},
   "source": [
    "The correlation matrix provides valuable insights into how different factors are related to the House Price Index (HPI) and to each other. Here are some key observations:\n",
    "\n",
    "Certain factors show a strong correlation with the House Price Index, indicating a significant relationship.\n",
    "The relationships among other economic indicators, such as income, interest rates, per_capita_GDP, and unemployment rate, also offer insights into the broader economic context affecting housing prices.\n",
    "\n"
   ]
  },
  {
   "cell_type": "code",
   "execution_count": 30,
   "id": "f2fc3264",
   "metadata": {},
   "outputs": [],
   "source": [
    "# Separating the target variable and the independent variable\n",
    "y = df.pop(\"HousePriceIndex\")\n",
    "X = df"
   ]
  },
  {
   "cell_type": "code",
   "execution_count": 31,
   "id": "477540b0",
   "metadata": {},
   "outputs": [
    {
     "data": {
      "image/png": "[encoded data removed]",
      "text/plain": [
       "<Figure size 432x288 with 1 Axes>"
      ]
     },
     "metadata": {
      "needs_background": "light"
     },
     "output_type": "display_data"
    },
    {
     "data": {
      "image/png": "[encoded data removed]",
      "text/plain": [
       "<Figure size 432x288 with 1 Axes>"
      ]
     },
     "metadata": {
      "needs_background": "light"
     },
     "output_type": "display_data"
    },
    {
     "data": {
      "image/png": "[encoded data removed]",
      "text/plain": [
       "<Figure size 432x288 with 1 Axes>"
      ]
     },
     "metadata": {
      "needs_background": "light"
     },
     "output_type": "display_data"
    },
    {
     "data": {
      "image/png": "[encoded data removed]",
      "text/plain": [
       "<Figure size 432x288 with 1 Axes>"
      ]
     },
     "metadata": {
      "needs_background": "light"
     },
     "output_type": "display_data"
    },
    {
     "data": {
      "image/png": "[encoded data removed]",
      "text/plain": [
       "<Figure size 432x288 with 1 Axes>"
      ]
     },
     "metadata": {
      "needs_background": "light"
     },
     "output_type": "display_data"
    },
    {
     "data": {
      "image/png": "[encoded data removed]",
      "text/plain": [
       "<Figure size 432x288 with 1 Axes>"
      ]
     },
     "metadata": {
      "needs_background": "light"
     },
     "output_type": "display_data"
    },
    {
     "data": {
      "image/png": "[encoded data removed]",
      "text/plain": [
       "<Figure size 432x288 with 1 Axes>"
      ]
     },
     "metadata": {
      "needs_background": "light"
     },
     "output_type": "display_data"
    },
    {
     "data": {
      "image/png": "[encoded data removed]",
      "text/plain": [
       "<Figure size 432x288 with 1 Axes>"
      ]
     },
     "metadata": {
      "needs_background": "light"
     },
     "output_type": "display_data"
    }
   ],
   "source": [
    "# Plotting scatter plots of the CASE-SHILLER index vs features\n",
    "\n",
    "for feature in X.columns:\n",
    "    plt.figure()\n",
    "    plt.scatter(x = X[feature], y = y)\n",
    "    plt.xlabel(feature)\n",
    "    plt.ylabel(\"CASE-SHILLER index\")\n",
    "    plt.title(f\"CASE-SHILLER index vs {feature}\")"
   ]
  },
  {
   "cell_type": "markdown",
   "id": "1e56f3f5",
   "metadata": {},
   "source": [
    "Examining the correlation matrix provided, it is evident that numerous pairs of independent variables exhibit high correlation. To address multicollinearity, we will eliminate one column from each correlated pair, opting to retain the column with a higher correlation with the target variable."
   ]
  },
  {
   "cell_type": "code",
   "execution_count": 32,
   "id": "f635c25c",
   "metadata": {},
   "outputs": [],
   "source": [
    "# Dropping multicollinearity columns\n",
    "mult_cols = [\"Working_Population\", \"CPI\",  \"Income\",\"Per_Capita_GDP\"]\n",
    "df.drop(columns = mult_cols, inplace = True)\n",
    "X = df"
   ]
  },
  {
   "cell_type": "markdown",
   "id": "d7f295d7",
   "metadata": {},
   "source": [
    "# Model Building"
   ]
  },
  {
   "cell_type": "code",
   "execution_count": 33,
   "id": "e815cc8a",
   "metadata": {},
   "outputs": [],
   "source": [
    "# Scaling\n",
    "scalar = MinMaxScaler()\n",
    "X = scalar.fit_transform(X)"
   ]
  },
  {
   "cell_type": "code",
   "execution_count": 36,
   "id": "eadfd06c",
   "metadata": {},
   "outputs": [],
   "source": [
    "# Splitting data into train and validation sets\n",
    "X_train, X_test, y_train, y_test = train_test_split(X,y, test_size= 0.2, random_state= 42)"
   ]
  },
  {
   "cell_type": "code",
   "execution_count": 37,
   "id": "c9bfdaae",
   "metadata": {},
   "outputs": [
    {
     "name": "stdout",
     "output_type": "stream",
     "text": [
      "The r2_score for the validation set is:  0.942723572307301\n"
     ]
    }
   ],
   "source": [
    "# Linear Regression Model\n",
    "model = LinearRegression()\n",
    "model.fit(X_train, y_train)\n",
    "pred = model.predict(X_test)\n",
    "score = r2_score(pred, y_test)\n",
    "print(\"The r2_score for the validation set is: \", score)"
   ]
  },
  {
   "cell_type": "markdown",
   "id": "41d9e7ab",
   "metadata": {},
   "source": [
    "- The r2_score is: 0.942723572307301\n",
    "- The r2 score is close to 1. It means that the model predicts the target variable with good accuracy."
   ]
  },
  {
   "cell_type": "code",
   "execution_count": 38,
   "id": "700a641d",
   "metadata": {},
   "outputs": [
    {
     "data": {
      "text/plain": [
       "array([165.27809008, 138.83663132, 145.84254121, 167.14267213,\n",
       "       153.27906937, 192.09408939, 205.43111349, 199.24682468,\n",
       "       142.71067799, 149.26621787, 204.52074512, 215.47320806,\n",
       "       203.1210488 , 294.4464372 , 170.98537182, 269.67775569,\n",
       "       209.96561072, 159.07435966, 175.65257351, 168.3622609 ,\n",
       "       302.47805873, 164.34759693, 154.75291355, 175.25906924,\n",
       "       185.0738328 , 189.11976351, 175.87215309, 141.87062365,\n",
       "       169.47650438, 157.87111235, 199.17549299, 177.43334112,\n",
       "       172.30497615, 169.02160998, 171.15775417, 154.61233784,\n",
       "       159.61579809, 208.96181296, 188.74311792, 169.99470913,\n",
       "       153.71906312, 140.66955087, 147.99234332, 204.38968071,\n",
       "       202.97463143, 159.80484038, 208.84557165, 165.50649025,\n",
       "       185.95926525, 195.28053247])"
      ]
     },
     "execution_count": 38,
     "metadata": {},
     "output_type": "execute_result"
    }
   ],
   "source": [
    "pred"
   ]
  },
  {
   "cell_type": "markdown",
   "id": "5d7068d9",
   "metadata": {},
   "source": [
    "Given that most variables exhibit an upward trend over time, it is anticipated that they will show a strong correlation. Therefore, instead of relying solely on the linear model, we can directly analyze the influence of variables on the home price index through scatter plots."
   ]
  },
  {
   "cell_type": "markdown",
   "id": "dfc2083c",
   "metadata": {},
   "source": [
    "# Insights"
   ]
  },
  {
   "cell_type": "markdown",
   "id": "0e1743af",
   "metadata": {},
   "source": [
    "Based on the analysis and the results from the regression model, here are some key insights regarding the target variable, the House Price Index (HPI), in relation to the given features: \n",
    "    \n",
    "- Correlation Insights: Certain features demonstrated notable correlations with the HPI. These correlations indicate potential predictive relationships, although they don't imply causation. Features with higher correlation coefficients (either positive or negative) are likely to have a more significant impact on the HPI. For example, if income or construction price index showed a strong correlation, it suggests they are important factors in predicting house prices. \n",
    "- Regression Model Observations: The regression model, despite its limitations as indicated by the negative R² value, provided a basic understanding of how changes in each feature might influence the HPI. Each feature's contribution to the HPI prediction varied. Some features had a more pronounced effect on the predicted HPI when altered, suggesting their greater influence in the housing market.    \n",
    "- Economic and Demographic Factors: Economic indicators such as interest rates, income levels, and GDP per capita are critical in understanding the housing market dynamics. Changes in these factors could significantly influence house prices. Demographic factors, like urban population and total households, also play a role in shaping housing demand and thus impact prices.\n",
    "- Market Sensitivity: The housing market is sensitive to a combination of economic conditions. For instance, rising interest rates typically cool down the housing market, while increased income levels might boost it. \n",
    "- However, it's important to approach these insights as indicative trends rather than definitive predictions, given the complexities of the housing market and the limitations of the analysis conducted."
   ]
  },
  {
   "cell_type": "markdown",
   "id": "ffd43dc0",
   "metadata": {},
   "source": [
    "# ...THE END..."
   ]
  }
 ],
 "metadata": {
  "kernelspec": {
   "display_name": "Python 3 (ipykernel)",
   "language": "python",
   "name": "python3"
  },
  "language_info": {
   "codemirror_mode": {
    "name": "ipython",
    "version": 3
   },
   "file_extension": ".py",
   "mimetype": "text/x-python",
   "name": "python",
   "nbconvert_exporter": "python",
   "pygments_lexer": "ipython3",
   "version": "3.9.12"
  }
 },
 "nbformat": 4,
 "nbformat_minor": 5
}
